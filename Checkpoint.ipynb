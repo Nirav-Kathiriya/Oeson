{
 "cells": [
  {
   "cell_type": "code",
   "execution_count": 35,
   "id": "06853944-f85e-4eeb-addf-467da545eb90",
   "metadata": {},
   "outputs": [
    {
     "name": "stdout",
     "output_type": "stream",
     "text": [
      "{1, 2, 3, 4, 5}\n",
      "{11, 12, 13, 14, 15}\n",
      "{'c', 'a', 'b', 'd'}\n",
      "{1, 2, 3, 5, 7, 'c', 10, 'a', 'b', 'd'}\n"
     ]
    }
   ],
   "source": [
    "my_set1 = {1, 2, 3, 4, 5}\n",
    "print(my_set1)\n",
    "\n",
    "my_set2 = {11, 12, 13, 14, 15}\n",
    "print(my_set2)\n",
    "\n",
    "my_set3 = {'a', 'b', 'c', 'd'}\n",
    "print(my_set3)\n",
    "\n",
    "my_set4= {'a', 'b', 'c', 'd', 1, 2, 3, 5, 10, 7}\n",
    "print(my_set4)"
   ]
  },
  {
   "cell_type": "code",
   "execution_count": 59,
   "id": "dd4dbf13-b900-4102-b294-05122d28da05",
   "metadata": {},
   "outputs": [
    {
     "name": "stdout",
     "output_type": "stream",
     "text": [
      "{1, 2, 3, 4, 5, 6}\n",
      "{1, 2, 3, 4, 5, 6}\n",
      "{1, 2, 3, 4, 5}\n",
      "{1, 2, 3, 4, 5}\n",
      "{1, 2, 3, 4, 5, 6}\n",
      "{1, 2, 3, 4, 5, 6}\n",
      "{1, 2, 3, 4, 5, 6}\n"
     ]
    }
   ],
   "source": [
    "my_set1.add(6) #add new value in set\n",
    "print(my_set1)\n",
    "\n",
    "my_set1.add(5) #try to add duplicate value\n",
    "print(my_set1)\n",
    "\n",
    "my_set1.remove(6) #remove specific value from set; We knwe that that value is in set\n",
    "print(my_set1)\n",
    "\n",
    "my_set1.discard(6) #remove specific value from set not giving error\n",
    "print(my_set1)\n",
    "\n",
    "my_set1.add(6) #add new value in set\n",
    "print(my_set1)\n",
    "\n",
    "\n",
    "my_set1.pop# random value remove\n",
    "print(my_set1)\n",
    "\n",
    "my_set1.clear # clear full set but we have ser without value not error as we are just cleararing full set\n",
    "print(my_set1)\n",
    "\n"
   ]
  },
  {
   "cell_type": "code",
   "execution_count": 61,
   "id": "ddbc5d5f-33f2-49d9-b3ab-3b257b89bdd2",
   "metadata": {},
   "outputs": [
    {
     "name": "stdout",
     "output_type": "stream",
     "text": [
      "{1, 2, 3, 4, 5}\n",
      "{1, 2, 3, 4, 5}\n"
     ]
    }
   ],
   "source": [
    "my_set1.remove(6) #remove specific value from set; We knwe that that value is in set\n",
    "print(my_set1)\n",
    "\n",
    "my_set1.pop # random value remove as per index\n",
    "print(my_set1)"
   ]
  },
  {
   "cell_type": "code",
   "execution_count": 88,
   "id": "33358d3a-434d-4e6b-a677-37a5ead6eba5",
   "metadata": {},
   "outputs": [
    {
     "name": "stdout",
     "output_type": "stream",
     "text": [
      "(1, 2) ('a', 'b')\n",
      "(('a', 'b'), (1, 2))\n"
     ]
    }
   ],
   "source": [
    "tuple1 = (1, 2)\n",
    "tupleA = ('a', 'b')\n",
    "\n",
    "swap_tup = (tupleA , tuple1)\n",
    "\n",
    "print(tuple1, tupleA) #Before swap\n",
    "print(swap_tup) #After swap\n"
   ]
  },
  {
   "cell_type": "markdown",
   "id": "23b7e256-a309-47d3-a2db-2aadc2e1a826",
   "metadata": {},
   "source": []
  }
 ],
 "metadata": {
  "kernelspec": {
   "display_name": "Python [conda env:base] *",
   "language": "python",
   "name": "conda-base-py"
  },
  "language_info": {
   "codemirror_mode": {
    "name": "ipython",
    "version": 3
   },
   "file_extension": ".py",
   "mimetype": "text/x-python",
   "name": "python",
   "nbconvert_exporter": "python",
   "pygments_lexer": "ipython3",
   "version": "3.12.7"
  }
 },
 "nbformat": 4,
 "nbformat_minor": 5
}
