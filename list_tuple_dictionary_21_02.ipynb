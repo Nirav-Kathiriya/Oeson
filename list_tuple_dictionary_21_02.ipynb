{
 "cells": [
  {
   "cell_type": "code",
   "execution_count": 1,
   "id": "d4e8f93d-ade7-47bd-8314-650300d424ff",
   "metadata": {},
   "outputs": [
    {
     "name": "stdout",
     "output_type": "stream",
     "text": [
      "[1, 2, 3, 4, 5]\n"
     ]
    }
   ],
   "source": [
    "my_list = [1, 2, 3, 4, 5]\n",
    "print(my_list)"
   ]
  },
  {
   "cell_type": "code",
   "execution_count": 3,
   "id": "7bb9a417-26da-4851-9662-d9f5b5018f57",
   "metadata": {},
   "outputs": [
    {
     "data": {
      "text/plain": [
       "[3, 4]"
      ]
     },
     "execution_count": 3,
     "metadata": {},
     "output_type": "execute_result"
    }
   ],
   "source": [
    "my_list[-3:-1]"
   ]
  },
  {
   "cell_type": "code",
   "execution_count": 5,
   "id": "fc50ef72-c52c-408b-8f0d-b66e1fcf2326",
   "metadata": {},
   "outputs": [],
   "source": [
    "my_list.append(6)"
   ]
  },
  {
   "cell_type": "code",
   "execution_count": 7,
   "id": "093792a0-4cd9-4443-9e45-f0258ff7c288",
   "metadata": {},
   "outputs": [
    {
     "name": "stdout",
     "output_type": "stream",
     "text": [
      "[1, 2, 3, 4, 5, 6]\n"
     ]
    }
   ],
   "source": [
    "print(my_list)"
   ]
  },
  {
   "cell_type": "code",
   "execution_count": 13,
   "id": "4242d0ec-53a6-4c0d-b153-e004626344f7",
   "metadata": {},
   "outputs": [
    {
     "name": "stdout",
     "output_type": "stream",
     "text": [
      "[1, 2, 3, 4, 5]\n"
     ]
    }
   ],
   "source": [
    "my_list.remove(6)\n",
    "print(my_list)\n"
   ]
  },
  {
   "cell_type": "code",
   "execution_count": 27,
   "id": "3be01ecf-2d91-4b01-948c-a3df4d3fea9d",
   "metadata": {},
   "outputs": [
    {
     "name": "stdout",
     "output_type": "stream",
     "text": [
      "['Wake Up', 'Quick Fresh', 'Morning Walk', 'Ready for work']\n",
      "['Wake Up', 'Quick Fresh', 'Morning Walk', 'Ready for work', 'Clean Own Desk']\n",
      "['Wake Up', 'Quick Fresh', 'Ready for work', 'Clean Own Desk']\n",
      "['Wake Up', 'Quick Fresh', 'GYM', 'Ready for work', 'Clean Own Desk']\n"
     ]
    }
   ],
   "source": [
    "task_list = ['Wake Up', 'Quick Fresh', 'Morning Walk', 'Ready for work']\n",
    "print(task_list)\n",
    "\n",
    "task_list.append('Clean Own Desk')\n",
    "print(task_list)\n",
    "\n",
    "task_list.remove('Morning Walk')\n",
    "print(task_list)\n",
    "\n",
    "task_list.insert(2, 'GYM')\n",
    "print(task_list)\n"
   ]
  },
  {
   "cell_type": "code",
   "execution_count": 89,
   "id": "d8110f4e-c186-4c07-a6e2-89ce0edbc0f7",
   "metadata": {},
   "outputs": [
    {
     "name": "stdout",
     "output_type": "stream",
     "text": [
      "As a list  [1, 2, 3, 4, 5, 6]\n",
      "As a tuple (1, 2, 3, 4, 5, 6)\n",
      "-------------------------------\n",
      "As a list  [1, 2, 3, 4, 5]\n",
      "As a tuple (1, 2, 3, 4, 5)\n"
     ]
    }
   ],
   "source": [
    "\n",
    "my_tuple_list = list(my_tuple) #Conert into list because tuple is Non-mutable \n",
    "\n",
    "my_tuple_list.append(6)\n",
    "print('As a list ', my_tuple_list)       #This one as a LIST []\n",
    "print('As a tuple' ,tuple(my_tuple_list)) #this is as a TUPLE ()\n",
    "\n",
    "print('-------------------------------')\n",
    "\n",
    "my_tuple_list.remove(6)\n",
    "print('As a list ' , my_tuple_list)       #This one as a LIST []\n",
    "print('As a tuple' ,tuple(my_tuple_list)) #this is as a TUPLE ()\n",
    "\n"
   ]
  },
  {
   "cell_type": "code",
   "execution_count": 103,
   "id": "0ae55735-dc48-401f-8401-5047b8cedd44",
   "metadata": {},
   "outputs": [
    {
     "name": "stdout",
     "output_type": "stream",
     "text": [
      "{'Name': 'Nirav', 'Roll Number': 33}\n",
      "{'Name': 'Nirav', 'Roll Number': 33, 'Email_ID': 'NIRAV33@GMAIL.COM'}\n"
     ]
    },
    {
     "data": {
      "text/plain": [
       "'Nirav'"
      ]
     },
     "execution_count": 103,
     "metadata": {},
     "output_type": "execute_result"
    }
   ],
   "source": [
    "new_dictionary = { 'Name' : 'Nirav' , 'Roll Number' : 33 }\n",
    "print(new_dictionary)\n",
    "new_dictionary['Email_ID'] = 'NIRAV33@GMAIL.COM'\n",
    "print(new_dictionary)\n",
    "new_dictionary['Name']"
   ]
  }
 ],
 "metadata": {
  "kernelspec": {
   "display_name": "Python [conda env:base] *",
   "language": "python",
   "name": "conda-base-py"
  },
  "language_info": {
   "codemirror_mode": {
    "name": "ipython",
    "version": 3
   },
   "file_extension": ".py",
   "mimetype": "text/x-python",
   "name": "python",
   "nbconvert_exporter": "python",
   "pygments_lexer": "ipython3",
   "version": "3.12.7"
  }
 },
 "nbformat": 4,
 "nbformat_minor": 5
}
