{
 "cells": [
  {
   "cell_type": "markdown",
   "id": "84172b9b-fcc6-43a3-9097-2a7501f70165",
   "metadata": {},
   "source": [
    "# Conditional Statement"
   ]
  },
  {
   "cell_type": "code",
   "execution_count": 43,
   "id": "c8d619ba-c7b8-43ac-aa78-813ac66ace8f",
   "metadata": {},
   "outputs": [
    {
     "name": "stdin",
     "output_type": "stream",
     "text": [
      "Enter the first integer number (Positive / Negative ):-  7\n",
      "Enter the second integer number(Positive / Negative ) :- 9\n"
     ]
    },
    {
     "name": "stdout",
     "output_type": "stream",
     "text": [
      "\n",
      "1st number = 7. \n",
      "2nd number = 9. \n",
      "9 is greater than 7\n"
     ]
    }
   ],
   "source": [
    "#Check the biggest number from user given numers.\n",
    "num1 = int(input('Enter the first integer number (Positive / Negative ):- '))\n",
    "num2 = int(input('Enter the second integer number(Positive / Negative ) :-'))\n",
    "\n",
    "if num1 > num2:\n",
    "    print(f'\\n1st number = {num1}. \\n2nd number = {num2}. \\n{num1} is greater than {num2}')\n",
    "elif num1 < num2:\n",
    "    print(f'\\n1st number = {num1}. \\n2nd number = {num2}. \\n{num2} is greater than {num1}')\n",
    "else:\n",
    "    print(f'\\n1st numer = {num1} and 2nd number = {num2}. \\nBoth the numbers are equal.')"
   ]
  },
  {
   "cell_type": "code",
   "execution_count": 61,
   "id": "d01d9474-1303-4280-9b24-a0c3c1669f7c",
   "metadata": {},
   "outputs": [
    {
     "name": "stdin",
     "output_type": "stream",
     "text": [
      "Enter the grade :-  456\n"
     ]
    },
    {
     "name": "stdout",
     "output_type": "stream",
     "text": [
      "Grade A\n"
     ]
    }
   ],
   "source": [
    "#Grades as per final marks\n",
    "#90 and + a\n",
    "#80 and to 90 b\n",
    "#70 and to 80 c\n",
    "#60 and to 70 d \n",
    "#rest all fails\n",
    "\n",
    "mark = float(input('Enter the mark :- ') )\n",
    "\n",
    "if mark >= 90:\n",
    "    print('Grade A')\n",
    "elif mark >= 80:\n",
    "    print('Grade B')\n",
    "elif mark >= 70:\n",
    "    print('Grade C')\n",
    "elif mark >= 60:\n",
    "    print('Grade D')\n",
    "else:\n",
    "    print('Fail')"
   ]
  },
  {
   "cell_type": "code",
   "execution_count": 87,
   "id": "cf6857d2-599b-4943-b8d2-ab19d6d94ba7",
   "metadata": {},
   "outputs": [
    {
     "name": "stdin",
     "output_type": "stream",
     "text": [
      "Enter the year :-  5\n"
     ]
    },
    {
     "name": "stdout",
     "output_type": "stream",
     "text": [
      "5 is not leap year.\n"
     ]
    }
   ],
   "source": [
    "#check the given year is a leap year or not\n",
    "\n",
    "year = int(input('Enter the year :- '))\n",
    "\n",
    "if (year%4 == 0 and year%100 != 0) or (year%400 == 0):\n",
    "    print(f'{year} is leap year.')\n",
    "else:\n",
    "    print(f'{year} is not leap year.')"
   ]
  },
  {
   "cell_type": "code",
   "execution_count": 93,
   "id": "cba3b988-4627-463a-b7d9-72d2d4aed2bd",
   "metadata": {},
   "outputs": [
    {
     "name": "stdin",
     "output_type": "stream",
     "text": [
      "Enter the age of person :-  18\n"
     ]
    },
    {
     "name": "stdout",
     "output_type": "stream",
     "text": [
      "Persona can vote.\n"
     ]
    }
   ],
   "source": [
    "# Check person can vote or not\n",
    "age = int(input('Enter the age of person :- ') )\n",
    "\n",
    "if age >= 18:\n",
    "    print('Persona can vote.')\n",
    "else:\n",
    "    print('Person need to wait untill age of 18 then he/she can vote.')"
   ]
  },
  {
   "cell_type": "code",
   "execution_count": null,
   "id": "b70ec254-f8b2-4c9f-98ec-3a5526f7b95c",
   "metadata": {},
   "outputs": [],
   "source": [
    "# Check the given number is palindrome or not.\n",
    "\n",
    "num = int(input('Enter the integer number (Positive / Negative ):- '))\n",
    "rev_num = num[::-1]\n",
    "\n",
    "if num\n",
    "\n"
   ]
  }
 ],
 "metadata": {
  "kernelspec": {
   "display_name": "Python [conda env:base] *",
   "language": "python",
   "name": "conda-base-py"
  },
  "language_info": {
   "codemirror_mode": {
    "name": "ipython",
    "version": 3
   },
   "file_extension": ".py",
   "mimetype": "text/x-python",
   "name": "python",
   "nbconvert_exporter": "python",
   "pygments_lexer": "ipython3",
   "version": "3.12.7"
  }
 },
 "nbformat": 4,
 "nbformat_minor": 5
}
